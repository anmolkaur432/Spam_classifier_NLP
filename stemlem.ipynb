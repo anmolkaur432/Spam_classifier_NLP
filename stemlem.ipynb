{
 "cells": [
  {
   "cell_type": "code",
   "execution_count": 18,
   "id": "a2b50005-cd69-485e-a433-953469ed3602",
   "metadata": {},
   "outputs": [],
   "source": [
    "import nltk\n",
    "from nltk.stem import PorterStemmer\n",
    "from nltk.corpus import stopwords"
   ]
  },
  {
   "cell_type": "code",
   "execution_count": 19,
   "id": "f0eb2a40-98d7-4b4a-a2a0-72855dd7481c",
   "metadata": {},
   "outputs": [],
   "source": [
    "paragraph=\"\"\"I have three visions for India. In 3000 years of our history people from all over the world have come and invaded us, captured our lands, conquered our minds. From Alexander onwards the Greeks, the Turks, the Moguls, the Portuguese, the British, the French, the Dutch, all of them came and looted us, took over what was ours. Yet we have not done this to any other nation.\n",
    "We have not conquered anyone. We have not grabbed their land, their culture and their history and tried to enforce our way of life on them. Why? Because we respect the freedom of others. That is why my is that of I believe that India got its first vision of this in 1857, when we started the war of Independence. It is this freedom that we must protect and nurture and build on. If we are not free, no one will respect us.\n",
    "We have 10 percent growth rate in most areas. Our poverty levels are falling. Our achievements are being globally recognised today. Yet we lack the self-confidence to see ourselves as a developed nation, self-reliant and self-assured. Isn’t this incorrect for India is . For fifty years we have been a developing nation. It is time we see ourselves as a developed nation. We are among top five nations in the world in terms of GDP.\n",
    "I have a third vision. India must stand up to the world. Because I believe that unless India stands up to the world, no one will respect us. Only strength respects strength. We must be strong not only as a military power but also as an economic power. Both must go hand-in-hand. My good fortune was to have worked with three great minds. Dr.Vikram Sarabhai, of the Dept. of Space, Professor Satish Dhawan, who succeeded him and Dr. Brahm Prakash, father of nuclear material. I was lucky to have worked with all three of them closely and consider this the great opportunity of my life.\n",
    "I was in Hyderabad giving this lecture, when a 14 year-old girl asked me for my autograph. I asked her what her goal in life is. She replied: I want to live in a developed India. For her, you and I will have to build this developed India. You must proclaim India is not an underdeveloped nation; it is a highly developed nation.\n",
    "You say that our government is inefficient. You say that our laws are too old. You say that the municipality does not pick up the garbage. You say that the phones don’t work, the railways are a joke, the airline is the worst in the world, and mails never reach their destination. You say that our country has been fed to the dogs and is the absolute pits. You say, say and say. What do you do about it?\n",
    "Dear Indians, I am echoing .Kennedy’s words to his fellow Americans to relate to Indians .\"\"\""
   ]
  },
  {
   "cell_type": "code",
   "execution_count": 20,
   "id": "31e614ed-9be8-457d-8745-2674cf999253",
   "metadata": {},
   "outputs": [],
   "source": [
    "sentences=nltk.sent_tokenize(paragraph)"
   ]
  },
  {
   "cell_type": "code",
   "execution_count": 21,
   "id": "d8648833-4597-452e-a5ae-516d58b8e2fe",
   "metadata": {},
   "outputs": [],
   "source": [
    "stemmer=PorterStemmer()"
   ]
  },
  {
   "cell_type": "code",
   "execution_count": 22,
   "id": "a7aca8b4-130f-461f-8c3f-3cfeb2eb731a",
   "metadata": {},
   "outputs": [
    {
     "name": "stderr",
     "output_type": "stream",
     "text": [
      "[nltk_data] Downloading package punkt to\n",
      "[nltk_data]     C:\\Users\\i94sl\\AppData\\Roaming\\nltk_data...\n",
      "[nltk_data]   Package punkt is already up-to-date!\n",
      "[nltk_data] Downloading package stopwords to\n",
      "[nltk_data]     C:\\Users\\i94sl\\AppData\\Roaming\\nltk_data...\n",
      "[nltk_data]   Package stopwords is already up-to-date!\n"
     ]
    },
    {
     "data": {
      "text/plain": [
       "True"
      ]
     },
     "execution_count": 22,
     "metadata": {},
     "output_type": "execute_result"
    }
   ],
   "source": [
    "import nltk\n",
    "from nltk.corpus import stopwords\n",
    "from nltk.tokenize import word_tokenize\n",
    "from nltk.stem import PorterStemmer\n",
    "\n",
    "# Ensure you have downloaded the necessary NLTK resources\n",
    "nltk.download('punkt')\n",
    "nltk.download('stopwords')"
   ]
  },
  {
   "cell_type": "code",
   "execution_count": 28,
   "id": "6fa31e4b-0eec-4a0a-88d6-50f7c9e90741",
   "metadata": {},
   "outputs": [],
   "source": [
    "for i in range(len(sentences)):\n",
    "    words=word_tokenize(sentences[i])\n",
    "    words=[stemmer.stem(word) for word in words if word.lower() not in set(stopwords.words('english'))]\n",
    "    sentences[i]=' '.join(words)\n",
    "    "
   ]
  },
  {
   "cell_type": "code",
   "execution_count": 29,
   "id": "02a0365c-b266-4214-817c-c70f9b3b3f6f",
   "metadata": {},
   "outputs": [
    {
     "data": {
      "text/plain": [
       "['threevisionindia .',\n",
       " '3000yearhistoripeoplworldcomeinvadu , capturland , conquermind .',\n",
       " 'alexandonwardgreek , turk , mogul , portugu , british , french , dutch , camelootu , took .',\n",
       " 'yetdonen .',\n",
       " 'conqueranyon .',\n",
       " 'grabland , culturhistoritrienforcwaylif .',\n",
       " '?',\n",
       " 'respectfreedomoth .',\n",
       " 'believindiagotfirstvision1857 , startwarindepend .',\n",
       " 'freedommustprotectnurturbuild .',\n",
       " 'free , onerespectu .',\n",
       " '10percentgrowthratearea .',\n",
       " 'povertilevelfal .',\n",
       " 'achievglobalrecognistoday .',\n",
       " 'yetlackself-confidseedevelopn , self-reliself-assur .',\n",
       " '’ incorrectindia .',\n",
       " 'fiftiyeardevelopn .',\n",
       " 'timeseedevelopn .',\n",
       " 'amongtopfivenationworldtermgdp .',\n",
       " 'thirdvis .',\n",
       " 'indiamuststandworld .',\n",
       " 'believunlessindiastandworld , onerespectu .',\n",
       " 'strengthrespectstrength .',\n",
       " 'muststrongmilitaripoweralsoeconompow .',\n",
       " 'mustgohand-in-hand .',\n",
       " 'goodfortunworkthreegreatmind .',\n",
       " 'dr.vikramsarabhai , dept .',\n",
       " 'space , professorsatishdhawan , succeeddr.brahmprakash , fathernuclearmateri .',\n",
       " 'luckiworkthreecloseconsidgreatopportunlif .',\n",
       " 'hyderabadgivelectur,14year-oldgirlaskautograph .',\n",
       " 'askgoallif .',\n",
       " 'repli : wantlivedevelopindia .',\n",
       " ', builddevelopindia .',\n",
       " 'mustproclaimindiaunderdevelopn ; highlidevelopn .',\n",
       " 'saygovernineffici .',\n",
       " 'saylawold .',\n",
       " 'saymunicippickgarbag .',\n",
       " 'sayphon ’ work , railwayjok , airlinworstworld , mailneverreachdestin .',\n",
       " 'saycountrifeddogabsolutpit .',\n",
       " 'say , saysay .',\n",
       " '?',\n",
       " 'dearindian , echo.kennedi ’ wordfellowamericanrelatindian .']"
      ]
     },
     "execution_count": 29,
     "metadata": {},
     "output_type": "execute_result"
    }
   ],
   "source": [
    "sentences\n"
   ]
  },
  {
   "cell_type": "code",
   "execution_count": 30,
   "id": "b85c5f4b-cf5a-49b3-ab64-6574e1db01cf",
   "metadata": {},
   "outputs": [],
   "source": [
    "paragraph1=\"\"\"I have three visions for India. In 3000 years of our history people from all over the world have come and invaded us, captured our lands, conquered our minds. From Alexander onwards the Greeks, the Turks, the Moguls, the Portuguese, the British, the French, the Dutch, all of them came and looted us, took over what was ours. Yet we have not done this to any other nation.\n",
    "We have not conquered anyone. We have not grabbed their land, their culture and their history and tried to enforce our way of life on them. Why? Because we respect the freedom of others. That is why my FIRST VISION is that of FREEDOM. I believe that India got its first vision of this in 1857, when we started the war of Independence. It is this freedom that we must protect and nurture and build on. If we are not free, no one will respect us.\n",
    "We have 10 percent growth rate in most areas. Our poverty levels are falling. Our achievements are being globally recognised today. Yet we lack the self-confidence to see ourselves as a developed nation, self-reliant and self-assured. Isn’t this incorrect? MY SECOND VISION for India is DEVELOPMENT. For fifty years we have been a developing nation. It is time we see ourselves as a developed nation. We are among top five nations in the world in terms of GDP.\n",
    "I have a THIRD VISION. India must stand up to the world. Because I believe that unless India stands up to the world, no one will respect us. Only strength respects strength. We must be strong not only as a military power but also as an economic power. Both must go hand-in-hand. My good fortune was to have worked with three great minds. Dr.Vikram Sarabhai, of the Dept. of Space, Professor Satish Dhawan, who succeeded him and Dr. Brahm Prakash, father of nuclear material. I was lucky to have worked with all three of them closely and consider this the great opportunity of my life.\n",
    "I was in Hyderabad giving this lecture, when a 14 year-old girl asked me for my autograph. I asked her what her goal in life is. She replied: I want to live in a developed India. For her, you and I will have to build this developed India. You must proclaim India is not an underdeveloped nation; it is a highly developed nation.\n",
    "You say that our government is inefficient. You say that our laws are too old. You say that the municipality does not pick up the garbage. You say that the phones don’t work, the railways are a joke, the airline is the worst in the world, and mails never reach their destination. You say that our country has been fed to the dogs and is the absolute pits. You say, say and say. What do you do about it?\n",
    "Dear Indians, I am echoing J.F.Kennedy’s words to his fellow Americans to relate to Indians ASK WHAT WE CAN DO FOR INDIA AND DO WHAT HAS TO BE DONE TO MAKE INDIA WHAT AMERICA AND OTHER WESTERN COUNTRIES ARE TODAY.\"\"\""
   ]
  },
  {
   "cell_type": "code",
   "execution_count": 31,
   "id": "f1803568-1523-431d-ab80-ee2566710246",
   "metadata": {},
   "outputs": [],
   "source": [
    "sentences=nltk.sent_tokenize(paragraph1)"
   ]
  },
  {
   "cell_type": "code",
   "execution_count": 36,
   "id": "dcd094e6-7ad8-4043-912f-dfd6949932aa",
   "metadata": {},
   "outputs": [],
   "source": [
    "import nltk\n",
    "from nltk.stem import WordNetLemmatizer\n",
    "lemmatizer=WordNetLemmatizer()\n"
   ]
  },
  {
   "cell_type": "code",
   "execution_count": 38,
   "id": "d2b798ed-1633-417d-99bb-cc754288bf0a",
   "metadata": {},
   "outputs": [],
   "source": [
    "for i in range(len(sentences)):\n",
    "    words=word_tokenize(sentences[i])\n",
    "    words=[lemmatizer.lemmatize(word) for word in words if word.lower() not in set(stopwords.words('english'))]\n",
    "    sentences[i]=' '.join(words)\n",
    "    "
   ]
  },
  {
   "cell_type": "code",
   "execution_count": 39,
   "id": "8f8b9645-147b-4b3a-b5fe-5db0450d9249",
   "metadata": {},
   "outputs": [
    {
     "data": {
      "text/plain": [
       "['three vision India .',\n",
       " '3000 year history people world come invaded u , captured land , conquered mind .',\n",
       " 'Alexander onwards Greeks , Turks , Moguls , Portuguese , British , French , Dutch , came looted u , took .',\n",
       " 'Yet done nation .',\n",
       " 'conquered anyone .',\n",
       " 'grabbed land , culture history tried enforce way life .',\n",
       " '?',\n",
       " 'respect freedom others .',\n",
       " 'FIRST VISION FREEDOM .',\n",
       " 'believe India got first vision 1857 , started war Independence .',\n",
       " 'freedom must protect nurture build .',\n",
       " 'free , one respect u .',\n",
       " '10 percent growth rate area .',\n",
       " 'poverty level falling .',\n",
       " 'achievement globally recognised today .',\n",
       " 'Yet lack self-confidence see developed nation , self-reliant self-assured .',\n",
       " '’ incorrect ?',\n",
       " 'SECOND VISION India DEVELOPMENT .',\n",
       " 'fifty year developing nation .',\n",
       " 'time see developed nation .',\n",
       " 'among top five nation world term GDP .',\n",
       " 'THIRD VISION .',\n",
       " 'India must stand world .',\n",
       " 'believe unless India stand world , one respect u .',\n",
       " 'strength respect strength .',\n",
       " 'must strong military power also economic power .',\n",
       " 'must go hand-in-hand .',\n",
       " 'good fortune worked three great mind .',\n",
       " 'Dr.Vikram Sarabhai , Dept .',\n",
       " 'Space , Professor Satish Dhawan , succeeded Dr. Brahm Prakash , father nuclear material .',\n",
       " 'lucky worked three closely consider great opportunity life .',\n",
       " 'Hyderabad giving lecture , 14 year-old girl asked autograph .',\n",
       " 'asked goal life .',\n",
       " 'replied : want live developed India .',\n",
       " ', build developed India .',\n",
       " 'must proclaim India underdeveloped nation ; highly developed nation .',\n",
       " 'say government inefficient .',\n",
       " 'say law old .',\n",
       " 'say municipality pick garbage .',\n",
       " 'say phone ’ work , railway joke , airline worst world , mail never reach destination .',\n",
       " 'say country fed dog absolute pit .',\n",
       " 'say , say say .',\n",
       " '?',\n",
       " 'Dear Indians , echoing J.F.Kennedy ’ word fellow Americans relate Indians ASK INDIA DONE MAKE INDIA AMERICA WESTERN COUNTRIES TODAY .']"
      ]
     },
     "execution_count": 39,
     "metadata": {},
     "output_type": "execute_result"
    }
   ],
   "source": [
    "sentences"
   ]
  },
  {
   "cell_type": "code",
   "execution_count": 40,
   "id": "d5503057-911e-4107-9e06-c82d4acee45b",
   "metadata": {},
   "outputs": [
    {
     "data": {
      "text/plain": [
       "44"
      ]
     },
     "execution_count": 40,
     "metadata": {},
     "output_type": "execute_result"
    }
   ],
   "source": [
    "len(sentences)"
   ]
  },
  {
   "cell_type": "code",
   "execution_count": null,
   "id": "76ea93ce-86f5-4f0d-bc1c-51b8dbc86b5c",
   "metadata": {},
   "outputs": [],
   "source": []
  }
 ],
 "metadata": {
  "kernelspec": {
   "display_name": "Python 3 (ipykernel)",
   "language": "python",
   "name": "python3"
  },
  "language_info": {
   "codemirror_mode": {
    "name": "ipython",
    "version": 3
   },
   "file_extension": ".py",
   "mimetype": "text/x-python",
   "name": "python",
   "nbconvert_exporter": "python",
   "pygments_lexer": "ipython3",
   "version": "3.12.3"
  }
 },
 "nbformat": 4,
 "nbformat_minor": 5
}
